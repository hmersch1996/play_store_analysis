{
 "cells": [
  {
   "cell_type": "code",
   "execution_count": 1,
   "metadata": {},
   "outputs": [],
   "source": [
    "import pandas as pd\n",
    "import numpy as np"
   ]
  },
  {
   "cell_type": "code",
   "execution_count": 2,
   "metadata": {},
   "outputs": [],
   "source": [
    "df1 = pd.read_csv(\"Data/google_play.csv\")\n",
    "\n",
    "df2 = pd.read_csv(\"Data/apple_store.csv\")"
   ]
  },
  {
   "cell_type": "code",
   "execution_count": 3,
   "metadata": {},
   "outputs": [
    {
     "data": {
      "text/html": [
       "<div>\n",
       "<style scoped>\n",
       "    .dataframe tbody tr th:only-of-type {\n",
       "        vertical-align: middle;\n",
       "    }\n",
       "\n",
       "    .dataframe tbody tr th {\n",
       "        vertical-align: top;\n",
       "    }\n",
       "\n",
       "    .dataframe thead th {\n",
       "        text-align: right;\n",
       "    }\n",
       "</style>\n",
       "<table border=\"1\" class=\"dataframe\">\n",
       "  <thead>\n",
       "    <tr style=\"text-align: right;\">\n",
       "      <th></th>\n",
       "      <th>reviewId</th>\n",
       "      <th>userName</th>\n",
       "      <th>userImage</th>\n",
       "      <th>content</th>\n",
       "      <th>score</th>\n",
       "      <th>thumbsUpCount</th>\n",
       "      <th>reviewCreatedVersion</th>\n",
       "      <th>at</th>\n",
       "      <th>replyContent</th>\n",
       "      <th>repliedAt</th>\n",
       "      <th>appVersion</th>\n",
       "    </tr>\n",
       "  </thead>\n",
       "  <tbody>\n",
       "    <tr>\n",
       "      <th>0</th>\n",
       "      <td>a157aebd-8fe4-4f1d-b969-62f1ec66b763</td>\n",
       "      <td>José Augusto Ferreira</td>\n",
       "      <td>https://play-lh.googleusercontent.com/a-/ALV-U...</td>\n",
       "      <td>Me ha encantado</td>\n",
       "      <td>5</td>\n",
       "      <td>0</td>\n",
       "      <td>22.17.02</td>\n",
       "      <td>2024-06-17 10:27:12</td>\n",
       "      <td>¡Gracias por dejarnos tu reseña José! 💚🤩</td>\n",
       "      <td>2024-06-17 16:02:20</td>\n",
       "      <td>22.17.02</td>\n",
       "    </tr>\n",
       "  </tbody>\n",
       "</table>\n",
       "</div>"
      ],
      "text/plain": [
       "                               reviewId               userName  \\\n",
       "0  a157aebd-8fe4-4f1d-b969-62f1ec66b763  José Augusto Ferreira   \n",
       "\n",
       "                                           userImage          content  score  \\\n",
       "0  https://play-lh.googleusercontent.com/a-/ALV-U...  Me ha encantado      5   \n",
       "\n",
       "   thumbsUpCount reviewCreatedVersion                   at  \\\n",
       "0              0             22.17.02  2024-06-17 10:27:12   \n",
       "\n",
       "                               replyContent            repliedAt appVersion  \n",
       "0  ¡Gracias por dejarnos tu reseña José! 💚🤩  2024-06-17 16:02:20   22.17.02  "
      ]
     },
     "execution_count": 3,
     "metadata": {},
     "output_type": "execute_result"
    }
   ],
   "source": [
    "df1.head(1)"
   ]
  },
  {
   "cell_type": "code",
   "execution_count": 4,
   "metadata": {},
   "outputs": [
    {
     "data": {
      "text/html": [
       "<div>\n",
       "<style scoped>\n",
       "    .dataframe tbody tr th:only-of-type {\n",
       "        vertical-align: middle;\n",
       "    }\n",
       "\n",
       "    .dataframe tbody tr th {\n",
       "        vertical-align: top;\n",
       "    }\n",
       "\n",
       "    .dataframe thead th {\n",
       "        text-align: right;\n",
       "    }\n",
       "</style>\n",
       "<table border=\"1\" class=\"dataframe\">\n",
       "  <thead>\n",
       "    <tr style=\"text-align: right;\">\n",
       "      <th></th>\n",
       "      <th>date</th>\n",
       "      <th>developerResponse</th>\n",
       "      <th>review</th>\n",
       "      <th>rating</th>\n",
       "      <th>isEdited</th>\n",
       "      <th>title</th>\n",
       "      <th>userName</th>\n",
       "    </tr>\n",
       "  </thead>\n",
       "  <tbody>\n",
       "    <tr>\n",
       "      <th>0</th>\n",
       "      <td>2023-08-15 15:55:36</td>\n",
       "      <td>{'id': 44620438, 'body': '¡Hola Jazmín! Querem...</td>\n",
       "      <td>Habiliten ya el ahorro programado!!!!!</td>\n",
       "      <td>5</td>\n",
       "      <td>False</td>\n",
       "      <td>Por favor</td>\n",
       "      <td>jazminnn99</td>\n",
       "    </tr>\n",
       "  </tbody>\n",
       "</table>\n",
       "</div>"
      ],
      "text/plain": [
       "                  date                                  developerResponse  \\\n",
       "0  2023-08-15 15:55:36  {'id': 44620438, 'body': '¡Hola Jazmín! Querem...   \n",
       "\n",
       "                                   review  rating  isEdited      title  \\\n",
       "0  Habiliten ya el ahorro programado!!!!!       5     False  Por favor   \n",
       "\n",
       "     userName  \n",
       "0  jazminnn99  "
      ]
     },
     "execution_count": 4,
     "metadata": {},
     "output_type": "execute_result"
    }
   ],
   "source": [
    "df2.head(1)"
   ]
  },
  {
   "cell_type": "code",
   "execution_count": 5,
   "metadata": {},
   "outputs": [],
   "source": [
    "reviews1 = df1[\"content\"].tolist()\n",
    "\n",
    "reviews2 = df2[\"review\"].tolist()"
   ]
  },
  {
   "cell_type": "code",
   "execution_count": 6,
   "metadata": {},
   "outputs": [
    {
     "name": "stdout",
     "output_type": "stream",
     "text": [
      "Using GPU: NVIDIA RTX A4000 Laptop GPU\n"
     ]
    }
   ],
   "source": [
    "import torch\n",
    "\n",
    "#Check if GPU is available\n",
    "if torch.cuda.is_available():\n",
    "  device = torch.device(\"cuda\")\n",
    "  print(f\"Using GPU: {torch.cuda.get_device_name(0)}\")\n",
    "else:\n",
    "  device = torch.device(\"cpu\")\n",
    "  print(\"Using CPU\")\n",
    "\n",
    "# Movemos el modelo y datos a la GPU si se puede\n",
    "#model.to(device)"
   ]
  },
  {
   "cell_type": "code",
   "execution_count": 7,
   "metadata": {},
   "outputs": [
    {
     "name": "stderr",
     "output_type": "stream",
     "text": [
      "/home/hm/anaconda3/envs/play_store_analysis/lib/python3.11/site-packages/tqdm/auto.py:21: TqdmWarning: IProgress not found. Please update jupyter and ipywidgets. See https://ipywidgets.readthedocs.io/en/stable/user_install.html\n",
      "  from .autonotebook import tqdm as notebook_tqdm\n",
      "No model was supplied, defaulted to distilbert/distilbert-base-uncased-finetuned-sst-2-english and revision af0f99b (https://huggingface.co/distilbert/distilbert-base-uncased-finetuned-sst-2-english).\n",
      "Using a pipeline without specifying a model name and revision in production is not recommended.\n"
     ]
    }
   ],
   "source": [
    "from transformers import pipeline\n",
    "\n",
    "sentiment_pipeline = pipeline(\"sentiment-analysis\",device=device)\n",
    "\n",
    "#specific_model = pipeline(model=\"nlptown/bert-base-multilingual-uncased-sentiment\")"
   ]
  },
  {
   "cell_type": "code",
   "execution_count": 8,
   "metadata": {},
   "outputs": [],
   "source": [
    "sentiment1 = sentiment_pipeline(reviews1)\n",
    "sentiment2 = sentiment_pipeline(reviews2)"
   ]
  },
  {
   "cell_type": "code",
   "execution_count": 9,
   "metadata": {},
   "outputs": [],
   "source": [
    "labels1 = [result['label'] for result in sentiment1]\n",
    "labels2 = [result['label'] for result in sentiment2]"
   ]
  },
  {
   "cell_type": "code",
   "execution_count": 10,
   "metadata": {},
   "outputs": [],
   "source": [
    "df1[\"Sentimiento\"]=labels1\n",
    "\n",
    "df2[\"Sentimiento\"]=labels2"
   ]
  },
  {
   "cell_type": "code",
   "execution_count": 11,
   "metadata": {},
   "outputs": [],
   "source": [
    "df1.to_csv(\"Results/google_play.csv\",index=False)\n",
    "\n",
    "df2.to_csv(\"Results/play_store.csv\",index=False)"
   ]
  },
  {
   "cell_type": "code",
   "execution_count": null,
   "metadata": {},
   "outputs": [],
   "source": []
  }
 ],
 "metadata": {
  "kernelspec": {
   "display_name": "play_store_analysis",
   "language": "python",
   "name": "python3"
  },
  "language_info": {
   "codemirror_mode": {
    "name": "ipython",
    "version": 3
   },
   "file_extension": ".py",
   "mimetype": "text/x-python",
   "name": "python",
   "nbconvert_exporter": "python",
   "pygments_lexer": "ipython3",
   "version": "3.11.9"
  }
 },
 "nbformat": 4,
 "nbformat_minor": 2
}
